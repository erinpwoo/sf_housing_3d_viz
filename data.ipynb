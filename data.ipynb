{
 "cells": [
  {
   "cell_type": "code",
   "execution_count": null,
   "metadata": {},
   "outputs": [],
   "source": [
    "import numpy as np\n",
    "import pandas as pd\n",
    "import urllib.request as ureq\n",
    "import json\n",
    "import csv\n",
    "\n",
    "evic_table = pd.read_csv(\"data/Eviction_Notices.csv\", low_memory=False)\n",
    "url = \"https://geo.fcc.gov/api/census/area?\"\n",
    "fips_arr = []\n",
    "\n",
    "def parseLocation(ln):\n",
    "    return ln[7:-1].split(\" \")"
   ]
  },
  {
   "cell_type": "code",
   "execution_count": 28,
   "metadata": {},
   "outputs": [],
   "source": [
    "import urllib.error as uerr\n",
    "for i, row in evic_table.iterrows():\n",
    "    loc = parseLocation(str(row['Location']))\n",
    "    if (len(loc) > 1):\n",
    "        try:\n",
    "            res = json.loads(ureq.urlopen(url + \"lon=\" + loc[0] + \"&lat=\" + loc[1]).read())\n",
    "        except uerr.HTTPError as e:\n",
    "            fips_arr.append('')\n",
    "            print(\"Error at \" + str(row))\n",
    "        else:\n",
    "            fips = res['results'][0]['block_fips'][1:11]\n",
    "            fips_arr.append(fips)\n",
    "    else:\n",
    "        fips_arr.append('')\n",
    "        \n",
    "evic_table['fips code'] = pd.Series(fips_arr)"
   ]
  },
  {
   "cell_type": "code",
   "execution_count": 27,
   "metadata": {},
   "outputs": [],
   "source": [
    "import datetime as dt\n",
    "evic_table['fips code'] = pd.Series(fips_arr)\n",
    "for i, row in evic_table.iterrows():\n",
    "    evic_table.at[i, \"File Date\"] = dt.datetime.strptime(row['File Date'],\"%Y-%m-%d\").strftime(\"%m-%d-%Y\")\n",
    "evic_table.to_csv(\"data/Evictions_fips.csv\")"
   ]
  },
  {
   "cell_type": "code",
   "execution_count": 70,
   "metadata": {},
   "outputs": [],
   "source": [
    "modified_evic = pd.read_csv(\"data/Evictions_fips.csv\", low_memory=False)\n",
    "with open(\"data/udp_2017.csv\", mode='r') as infile:\n",
    "    reader = csv.reader(infile)\n",
    "    gen_dict = dict((str(rows[0]),rows[1]) for rows in reader)"
   ]
  },
  {
   "cell_type": "code",
   "execution_count": 81,
   "metadata": {},
   "outputs": [],
   "source": [
    "# stats_dict = dict.fromkeys(modified_evic['fips code'], 0)\n",
    "# x = []\n",
    "# y = []\n",
    "\n",
    "# for i, row in modified_evic.iterrows():\n",
    "#     if not math.isnan(row['fips code']):\n",
    "#         stats_dict[modified_evic.at[i, 'fips code']] += 1\n",
    "\n",
    "# for i, row in modified_evic.iterrows():\n",
    "#     if not math.isnan((row['fips code'])):\n",
    "#         x.append(stats_dict[modified_evic.at[i, 'fips code']])\n",
    "#         y.append(gen_dict[str(row['fips code'])[0:-2]])"
   ]
  }
 ],
 "metadata": {
  "kernelspec": {
   "display_name": "Python 3",
   "language": "python",
   "name": "python3"
  },
  "language_info": {
   "codemirror_mode": {
    "name": "ipython",
    "version": 3
   },
   "file_extension": ".py",
   "mimetype": "text/x-python",
   "name": "python",
   "nbconvert_exporter": "python",
   "pygments_lexer": "ipython3",
   "version": "3.8.1"
  }
 },
 "nbformat": 4,
 "nbformat_minor": 2
}
