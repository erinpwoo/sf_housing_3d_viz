{
 "cells": [
  {
   "cell_type": "code",
   "execution_count": null,
   "metadata": {},
   "outputs": [],
   "source": [
    "import numpy as np\n",
    "import pandas as pd\n",
    "import urllib.request as ureq\n",
    "import json\n",
    "\n",
    "evic_table = pd.read_csv(\"data/Eviction_Notices.csv\", low_memory=False)\n",
    "url = \"https://geo.fcc.gov/api/census/area?\"\n",
    "\n",
    "def parseLocation(ln):\n",
    "    return ln[7:-1].split(\" \")"
   ]
  },
  {
   "cell_type": "code",
   "execution_count": null,
   "metadata": {},
   "outputs": [],
   "source": [
    "for i, row in evic_table.iterrows():\n",
    "    loc = parseLocation(str(row['Location']))\n",
    "    if (len(loc) > 1):\n",
    "        req = ureq.urlopen(url + \"lon=\" + loc[0] + \"&lat=\" + loc[1])\n",
    "        res = req.read()\n",
    "        print(res)"
   ]
  },
  {
   "cell_type": "code",
   "execution_count": null,
   "metadata": {},
   "outputs": [],
   "source": []
  }
 ],
 "metadata": {
  "kernelspec": {
   "display_name": "Python 3",
   "language": "python",
   "name": "python3"
  },
  "language_info": {
   "codemirror_mode": {
    "name": "ipython",
    "version": 3
   },
   "file_extension": ".py",
   "mimetype": "text/x-python",
   "name": "python",
   "nbconvert_exporter": "python",
   "pygments_lexer": "ipython3",
   "version": "3.8.1"
  }
 },
 "nbformat": 4,
 "nbformat_minor": 2
}
