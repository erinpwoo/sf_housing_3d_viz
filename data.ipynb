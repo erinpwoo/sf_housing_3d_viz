{
 "cells": [
  {
   "cell_type": "code",
   "execution_count": 15,
   "metadata": {},
   "outputs": [],
   "source": [
    "import numpy as np\n",
    "import pandas as pd\n",
    "import urllib.request as ureq\n",
    "import json\n",
    "\n",
    "evic_table = pd.read_csv(\"data/Eviction_Notices.csv\", low_memory=False)\n",
    "url = \"https://geo.fcc.gov/api/census/area?\"\n",
    "fips_arr = []\n",
    "\n",
    "def parseLocation(ln):\n",
    "    return ln[7:-1].split(\" \")"
   ]
  },
  {
   "cell_type": "code",
   "execution_count": null,
   "metadata": {},
   "outputs": [],
   "source": [
    "for i, row in evic_table.iterrows():\n",
    "    loc = parseLocation(str(row['Location']))\n",
    "    if (len(loc) > 1):\n",
    "        try:\n",
    "            res = json.loads(ureq.urlopen(url + \"lon=\" + loc[0] + \"&lat=\" + loc[1]).read())\n",
    "        except HTTPError as e:\n",
    "            print 'Failure: ' + str(e.reason)\n",
    "            fips_arr.append('')\n",
    "        else:\n",
    "            fips = res['results'][0]['block_fips'][1:11]\n",
    "            fips_arr.append(fips)\n",
    "    else:\n",
    "        fips_arr.append('')"
   ]
  },
  {
   "cell_type": "code",
   "execution_count": 46,
   "metadata": {},
   "outputs": [],
   "source": [
    "import datetime as dt\n",
    "evic_table['fips code'] = pd.Series(fips_arr)\n",
    "for i, row in evic_table.iterrows():\n",
    "    evic_table.at[i, \"File Date\"] = dt.datetime.strptime(row['File Date'],\"%m/%d/%y\").strftime(\"%m-%d-%Y\")\n",
    "evic_table.to_csv(\"data/Evictions_fips.csv\")"
   ]
  },
  {
   "cell_type": "code",
   "execution_count": null,
   "metadata": {},
   "outputs": [],
   "source": []
  }
 ],
 "metadata": {
  "kernelspec": {
   "display_name": "Python 3",
   "language": "python",
   "name": "python3"
  },
  "language_info": {
   "codemirror_mode": {
    "name": "ipython",
    "version": 3
   },
   "file_extension": ".py",
   "mimetype": "text/x-python",
   "name": "python",
   "nbconvert_exporter": "python",
   "pygments_lexer": "ipython3",
   "version": "3.8.1"
  }
 },
 "nbformat": 4,
 "nbformat_minor": 2
}
